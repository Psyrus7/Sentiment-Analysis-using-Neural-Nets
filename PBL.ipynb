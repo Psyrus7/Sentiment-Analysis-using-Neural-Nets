{
 "cells": [
  {
   "cell_type": "code",
   "execution_count": 1,
   "metadata": {},
   "outputs": [
    {
     "name": "stdout",
     "output_type": "stream",
     "text": [
      "WARNING:tensorflow:From c:\\Users\\athar\\AppData\\Local\\Programs\\Python\\Python311\\Lib\\site-packages\\keras\\src\\losses.py:2976: The name tf.losses.sparse_softmax_cross_entropy is deprecated. Please use tf.compat.v1.losses.sparse_softmax_cross_entropy instead.\n",
      "\n"
     ]
    }
   ],
   "source": [
    "import pandas as pd\n",
    "import numpy as np\n",
    "import matplotlib.pyplot as plt\n",
    "import tensorflow as tf\n",
    "from sklearn.model_selection import train_test_split\n",
    "from sklearn.feature_extraction.text import CountVectorizer\n",
    "from imblearn.over_sampling import SMOTE"
   ]
  },
  {
   "cell_type": "code",
   "execution_count": 3,
   "metadata": {},
   "outputs": [],
   "source": [
    "dataframe = pd.read_excel('train.xlsx')"
   ]
  },
  {
   "cell_type": "code",
   "execution_count": 4,
   "metadata": {},
   "outputs": [
    {
     "data": {
      "text/plain": [
       "(3636, 2)"
      ]
     },
     "execution_count": 4,
     "metadata": {},
     "output_type": "execute_result"
    }
   ],
   "source": [
    "dataframe.shape"
   ]
  },
  {
   "cell_type": "code",
   "execution_count": 5,
   "metadata": {},
   "outputs": [
    {
     "name": "stdout",
     "output_type": "stream",
     "text": [
      "<class 'pandas.core.frame.DataFrame'>\n",
      "RangeIndex: 3636 entries, 0 to 3635\n",
      "Data columns (total 2 columns):\n",
      " #   Column         Non-Null Count  Dtype \n",
      "---  ------         --------------  ----- \n",
      " 0   Sentiment      3636 non-null   object\n",
      " 1   News Headline  3636 non-null   object\n",
      "dtypes: object(2)\n",
      "memory usage: 56.9+ KB\n"
     ]
    }
   ],
   "source": [
    "dataframe.info()"
   ]
  },
  {
   "cell_type": "code",
   "execution_count": 6,
   "metadata": {},
   "outputs": [
    {
     "data": {
      "text/plain": [
       "Sentiment        0\n",
       "News Headline    0\n",
       "dtype: int64"
      ]
     },
     "execution_count": 6,
     "metadata": {},
     "output_type": "execute_result"
    }
   ],
   "source": [
    "dataframe.isnull().sum()"
   ]
  },
  {
   "cell_type": "code",
   "execution_count": 7,
   "metadata": {},
   "outputs": [
    {
     "data": {
      "text/plain": [
       "Sentiment\n",
       "neutral     2159\n",
       "positive    1022\n",
       "negative     455\n",
       "Name: count, dtype: int64"
      ]
     },
     "execution_count": 7,
     "metadata": {},
     "output_type": "execute_result"
    }
   ],
   "source": [
    "dataframe[\"Sentiment\"].value_counts()"
   ]
  },
  {
   "attachments": {},
   "cell_type": "markdown",
   "metadata": {},
   "source": [
    "Labeling the sentiments as 0, 1, 2"
   ]
  },
  {
   "cell_type": "code",
   "execution_count": 8,
   "metadata": {},
   "outputs": [],
   "source": [
    "dataframe.rename(columns={'News Headline': 'Headlines'}, inplace=True)\n",
    "label_mapping = {\"neutral\": 0, \"positive\": 1, \"negative\": 2}\n",
    "dataframe[\"Sentiment\"] = dataframe[\"Sentiment\"].map(label_mapping)"
   ]
  },
  {
   "cell_type": "markdown",
   "metadata": {},
   "source": [
    "Verctorization of Headings"
   ]
  },
  {
   "cell_type": "code",
   "execution_count": 9,
   "metadata": {},
   "outputs": [],
   "source": [
    "# Convert text data to numerical representations using CountVectorizer\n",
    "vectorizer = CountVectorizer()\n",
    "X = vectorizer.fit_transform(dataframe[\"Headlines\"])\n",
    "\n",
    "# Convert sparse matrix to dense array\n",
    "X = X.toarray()"
   ]
  },
  {
   "attachments": {},
   "cell_type": "markdown",
   "metadata": {},
   "source": [
    "Oversampling the Data"
   ]
  },
  {
   "cell_type": "code",
   "execution_count": 10,
   "metadata": {},
   "outputs": [],
   "source": [
    "smote = SMOTE(random_state=42)\n",
    "X_resampled, y_resampled = smote.fit_resample(X, dataframe[\"Sentiment\"])"
   ]
  },
  {
   "cell_type": "code",
   "execution_count": 11,
   "metadata": {},
   "outputs": [
    {
     "data": {
      "text/plain": [
       "Sentiment\n",
       "0    2159\n",
       "1    2159\n",
       "2    2159\n",
       "Name: count, dtype: int64"
      ]
     },
     "execution_count": 11,
     "metadata": {},
     "output_type": "execute_result"
    }
   ],
   "source": [
    "y_resampled.value_counts()"
   ]
  },
  {
   "cell_type": "markdown",
   "metadata": {},
   "source": [
    "Data Splitting"
   ]
  },
  {
   "cell_type": "code",
   "execution_count": 12,
   "metadata": {},
   "outputs": [],
   "source": [
    "X_train, X_test, y_train, y_test = train_test_split(X_resampled, y_resampled, test_size=0.2, random_state=2)"
   ]
  },
  {
   "cell_type": "markdown",
   "metadata": {},
   "source": [
    "Model"
   ]
  },
  {
   "cell_type": "code",
   "execution_count": 13,
   "metadata": {},
   "outputs": [
    {
     "name": "stdout",
     "output_type": "stream",
     "text": [
      "WARNING:tensorflow:From c:\\Users\\athar\\AppData\\Local\\Programs\\Python\\Python311\\Lib\\site-packages\\keras\\src\\backend.py:873: The name tf.get_default_graph is deprecated. Please use tf.compat.v1.get_default_graph instead.\n",
      "\n"
     ]
    }
   ],
   "source": [
    "num_classes = len(label_mapping)\n",
    "nn_model = tf.keras.Sequential([\n",
    "    tf.keras.layers.Dense(128, activation='relu', input_shape=(X_train.shape[1],)),\n",
    "    tf.keras.layers.Dense(64, activation='relu'),\n",
    "    tf.keras.layers.Dense(32, activation='softmax'),\n",
    "\n",
    "    tf.keras.layers.Dense(num_classes, activation='softmax')\n",
    "])"
   ]
  },
  {
   "cell_type": "code",
   "execution_count": 14,
   "metadata": {},
   "outputs": [],
   "source": [
    "nn_model.compile(optimizer=tf.keras.optimizers.Adam(0.001), loss='sparse_categorical_crossentropy', metrics=['accuracy'])"
   ]
  },
  {
   "attachments": {},
   "cell_type": "markdown",
   "metadata": {},
   "source": [
    "History Plotting"
   ]
  },
  {
   "cell_type": "code",
   "execution_count": 15,
   "metadata": {},
   "outputs": [
    {
     "name": "stdout",
     "output_type": "stream",
     "text": [
      "Epoch 1/40\n",
      "WARNING:tensorflow:From c:\\Users\\athar\\AppData\\Local\\Programs\\Python\\Python311\\Lib\\site-packages\\keras\\src\\utils\\tf_utils.py:492: The name tf.ragged.RaggedTensorValue is deprecated. Please use tf.compat.v1.ragged.RaggedTensorValue instead.\n",
      "\n",
      "WARNING:tensorflow:From c:\\Users\\athar\\AppData\\Local\\Programs\\Python\\Python311\\Lib\\site-packages\\keras\\src\\engine\\base_layer_utils.py:384: The name tf.executing_eagerly_outside_functions is deprecated. Please use tf.compat.v1.executing_eagerly_outside_functions instead.\n",
      "\n",
      "65/65 [==============================] - 3s 23ms/step - loss: 1.0636 - accuracy: 0.4467 - val_loss: 0.9904 - val_accuracy: 0.6278\n",
      "Epoch 2/40\n",
      "65/65 [==============================] - 1s 16ms/step - loss: 0.9195 - accuracy: 0.6952 - val_loss: 0.9037 - val_accuracy: 0.7078\n",
      "Epoch 3/40\n",
      "65/65 [==============================] - 1s 16ms/step - loss: 0.7865 - accuracy: 0.8106 - val_loss: 0.8283 - val_accuracy: 0.7348\n",
      "Epoch 4/40\n",
      "65/65 [==============================] - 1s 16ms/step - loss: 0.6860 - accuracy: 0.8596 - val_loss: 0.8068 - val_accuracy: 0.7242\n",
      "Epoch 5/40\n",
      "65/65 [==============================] - 1s 16ms/step - loss: 0.6225 - accuracy: 0.8726 - val_loss: 0.7659 - val_accuracy: 0.7338\n",
      "Epoch 6/40\n",
      "65/65 [==============================] - 1s 16ms/step - loss: 0.5707 - accuracy: 0.8832 - val_loss: 0.7599 - val_accuracy: 0.7261\n",
      "Epoch 7/40\n",
      "65/65 [==============================] - 1s 17ms/step - loss: 0.5270 - accuracy: 0.8917 - val_loss: 0.7651 - val_accuracy: 0.7107\n",
      "Epoch 8/40\n",
      "65/65 [==============================] - 1s 16ms/step - loss: 0.4919 - accuracy: 0.8984 - val_loss: 0.7479 - val_accuracy: 0.7223\n",
      "Epoch 9/40\n",
      "65/65 [==============================] - 1s 16ms/step - loss: 0.4667 - accuracy: 0.8950 - val_loss: 0.7450 - val_accuracy: 0.7175\n",
      "Epoch 10/40\n",
      "65/65 [==============================] - 1s 16ms/step - loss: 0.4388 - accuracy: 0.9003 - val_loss: 0.7258 - val_accuracy: 0.7329\n",
      "Epoch 11/40\n",
      "65/65 [==============================] - 1s 16ms/step - loss: 0.4116 - accuracy: 0.9066 - val_loss: 0.7249 - val_accuracy: 0.7358\n",
      "Epoch 12/40\n",
      "65/65 [==============================] - 1s 16ms/step - loss: 0.3868 - accuracy: 0.9160 - val_loss: 0.7383 - val_accuracy: 0.7252\n",
      "Epoch 13/40\n",
      "65/65 [==============================] - 1s 16ms/step - loss: 0.3708 - accuracy: 0.9158 - val_loss: 0.7332 - val_accuracy: 0.7348\n",
      "Epoch 14/40\n",
      "65/65 [==============================] - 1s 16ms/step - loss: 0.3465 - accuracy: 0.9235 - val_loss: 0.7037 - val_accuracy: 0.7445\n",
      "Epoch 15/40\n",
      "65/65 [==============================] - 1s 16ms/step - loss: 0.3335 - accuracy: 0.9266 - val_loss: 0.7320 - val_accuracy: 0.7377\n",
      "Epoch 16/40\n",
      "65/65 [==============================] - 1s 16ms/step - loss: 0.3178 - accuracy: 0.9286 - val_loss: 0.7135 - val_accuracy: 0.7473\n",
      "Epoch 17/40\n",
      "65/65 [==============================] - 1s 17ms/step - loss: 0.3057 - accuracy: 0.9286 - val_loss: 0.7008 - val_accuracy: 0.7531\n",
      "Epoch 18/40\n",
      "65/65 [==============================] - 1s 18ms/step - loss: 0.2839 - accuracy: 0.9409 - val_loss: 0.7106 - val_accuracy: 0.7464\n",
      "Epoch 19/40\n",
      "65/65 [==============================] - 1s 18ms/step - loss: 0.2774 - accuracy: 0.9377 - val_loss: 0.7155 - val_accuracy: 0.7454\n",
      "Epoch 20/40\n",
      "65/65 [==============================] - 1s 17ms/step - loss: 0.2628 - accuracy: 0.9426 - val_loss: 0.7032 - val_accuracy: 0.7541\n",
      "Epoch 21/40\n",
      "65/65 [==============================] - 1s 17ms/step - loss: 0.2632 - accuracy: 0.9368 - val_loss: 0.7225 - val_accuracy: 0.7531\n",
      "Epoch 22/40\n",
      "65/65 [==============================] - 1s 16ms/step - loss: 0.2543 - accuracy: 0.9406 - val_loss: 0.7150 - val_accuracy: 0.7580\n",
      "Epoch 23/40\n",
      "65/65 [==============================] - 1s 16ms/step - loss: 0.2368 - accuracy: 0.9452 - val_loss: 0.7245 - val_accuracy: 0.7551\n",
      "Epoch 24/40\n",
      "65/65 [==============================] - 1s 16ms/step - loss: 0.2282 - accuracy: 0.9457 - val_loss: 0.7668 - val_accuracy: 0.7387\n",
      "Epoch 25/40\n",
      "65/65 [==============================] - 1s 17ms/step - loss: 0.2214 - accuracy: 0.9479 - val_loss: 0.7408 - val_accuracy: 0.7473\n",
      "Epoch 26/40\n",
      "65/65 [==============================] - 1s 16ms/step - loss: 0.2158 - accuracy: 0.9476 - val_loss: 0.7703 - val_accuracy: 0.7387\n",
      "Epoch 27/40\n",
      "65/65 [==============================] - 1s 16ms/step - loss: 0.2091 - accuracy: 0.9491 - val_loss: 0.7585 - val_accuracy: 0.7454\n",
      "Epoch 28/40\n",
      "65/65 [==============================] - 1s 17ms/step - loss: 0.2011 - accuracy: 0.9515 - val_loss: 0.7670 - val_accuracy: 0.7454\n",
      "Epoch 29/40\n",
      "65/65 [==============================] - 1s 16ms/step - loss: 0.1986 - accuracy: 0.9488 - val_loss: 0.8032 - val_accuracy: 0.7387\n",
      "Epoch 30/40\n",
      "65/65 [==============================] - 1s 16ms/step - loss: 0.2012 - accuracy: 0.9443 - val_loss: 0.8036 - val_accuracy: 0.7310\n",
      "Epoch 31/40\n",
      "65/65 [==============================] - 1s 16ms/step - loss: 0.2012 - accuracy: 0.9450 - val_loss: 0.7826 - val_accuracy: 0.7300\n",
      "Epoch 32/40\n",
      "65/65 [==============================] - 1s 16ms/step - loss: 0.1889 - accuracy: 0.9515 - val_loss: 0.7868 - val_accuracy: 0.7531\n",
      "Epoch 33/40\n",
      "65/65 [==============================] - 1s 16ms/step - loss: 0.1791 - accuracy: 0.9544 - val_loss: 0.7682 - val_accuracy: 0.7580\n",
      "Epoch 34/40\n",
      "65/65 [==============================] - 1s 16ms/step - loss: 0.1754 - accuracy: 0.9549 - val_loss: 0.8057 - val_accuracy: 0.7425\n",
      "Epoch 35/40\n",
      "65/65 [==============================] - 1s 16ms/step - loss: 0.1741 - accuracy: 0.9529 - val_loss: 0.7904 - val_accuracy: 0.7493\n",
      "Epoch 36/40\n",
      "65/65 [==============================] - 1s 16ms/step - loss: 0.1708 - accuracy: 0.9537 - val_loss: 0.7793 - val_accuracy: 0.7512\n",
      "Epoch 37/40\n",
      "65/65 [==============================] - 1s 16ms/step - loss: 0.1708 - accuracy: 0.9534 - val_loss: 0.7901 - val_accuracy: 0.7502\n",
      "Epoch 38/40\n",
      "65/65 [==============================] - 1s 16ms/step - loss: 0.1615 - accuracy: 0.9558 - val_loss: 0.7982 - val_accuracy: 0.7531\n",
      "Epoch 39/40\n",
      "65/65 [==============================] - 1s 16ms/step - loss: 0.1598 - accuracy: 0.9573 - val_loss: 0.8086 - val_accuracy: 0.7570\n",
      "Epoch 40/40\n",
      "65/65 [==============================] - 1s 16ms/step - loss: 0.1588 - accuracy: 0.9554 - val_loss: 0.8155 - val_accuracy: 0.7551\n"
     ]
    }
   ],
   "source": [
    "history = nn_model.fit(X_train, y_train, epochs=40, batch_size=64, validation_split=0.2)"
   ]
  },
  {
   "cell_type": "markdown",
   "metadata": {},
   "source": [
    "Training Results"
   ]
  },
  {
   "cell_type": "code",
   "execution_count": 16,
   "metadata": {},
   "outputs": [
    {
     "name": "stdout",
     "output_type": "stream",
     "text": [
      "41/41 [==============================] - 0s 4ms/step - loss: 0.8146 - accuracy: 0.7508\n",
      "Test Loss: 0.8146352767944336\n",
      "Test Accuracy: 0.7507715821266174\n"
     ]
    },
    {
     "data": {
      "image/png": "[encoded data removed]",
      "text/plain": [
       "<Figure size 640x480 with 1 Axes>"
      ]
     },
     "metadata": {},
     "output_type": "display_data"
    },
    {
     "data": {
      "image/png": "[encoded data removed]",
      "text/plain": [
       "<Figure size 640x480 with 1 Axes>"
      ]
     },
     "metadata": {},
     "output_type": "display_data"
    }
   ],
   "source": [
    "loss, accuracy = nn_model.evaluate(X_test, y_test)\n",
    "print(\"Test Loss:\", loss)\n",
    "print(\"Test Accuracy:\", accuracy)\n",
    "# Plot loss and accuracy\n",
    "plt.plot(history.history['loss'], label='loss')\n",
    "plt.plot(history.history['val_loss'], label='val_loss')\n",
    "plt.xlabel('Epoch')\n",
    "plt.ylabel('Loss')\n",
    "plt.legend()\n",
    "plt.grid(True)\n",
    "plt.show()\n",
    "\n",
    "plt.plot(history.history['accuracy'], label='accuracy')\n",
    "plt.plot(history.history['val_accuracy'], label='val_accuracy')\n",
    "plt.xlabel('Epoch')\n",
    "plt.ylabel('Accuracy')\n",
    "plt.legend()\n",
    "plt.grid(True)\n",
    "plt.show()"
   ]
  },
  {
   "cell_type": "markdown",
   "metadata": {},
   "source": [
    "Model Evaluation"
   ]
  },
  {
   "cell_type": "code",
   "execution_count": 17,
   "metadata": {},
   "outputs": [
    {
     "name": "stdout",
     "output_type": "stream",
     "text": [
      "1/1 [==============================] - 0s 192ms/step\n",
      "1/1 [==============================] - 0s 47ms/step\n",
      "1/1 [==============================] - 0s 44ms/step\n",
      "1/1 [==============================] - 0s 34ms/step\n",
      "1/1 [==============================] - 0s 49ms/step\n",
      "The predicted sentiment for the headline 'Apple's new headquarters are to be built at the San Francisco subway station' is: neutral\n",
      "The predicted sentiment for the headline 'A data processing unit collects the data, calculates RVR values and provides the data to users via various interfaces.' is: neutral\n",
      "The predicted sentiment for the headline 'The company is studying the feasibility of focusing most of its processed meat production in the Vantaa facilities and the processing of fresh meat in the Forssa facilities.' is: neutral\n",
      "The predicted sentiment for the headline 'A high court in Finland has fined seven local asphalt companies more than   lion ( $ 117 million ) for operating a cartel .' is: neutral\n",
      "The predicted sentiment for the headline 'In addition to Russia, we now seek additional growth in Ukraine.' is: positive\n"
     ]
    }
   ],
   "source": [
    "def preprocess_headline(headline, vectorizer):\n",
    "    # Transform headline into numerical representation using the trained vectorizer\n",
    "    X = vectorizer.transform([headline])\n",
    "    # Convert sparse matrix to dense array\n",
    "    X = X.toarray()\n",
    "    return X\n",
    "\n",
    "# Function to predict sentiment for a single headline\n",
    "def predict_sentiment(headline, model, vectorizer):\n",
    "    # Preprocess headline\n",
    "    X = preprocess_headline(headline, vectorizer)\n",
    "    # Predict sentiment\n",
    "    prediction = model.predict(X)\n",
    "    # Convert prediction to sentiment label\n",
    "    sentiment_labels = [\"neutral\", \"positive\", \"negative\"]\n",
    "    predicted_sentiment = sentiment_labels[np.argmax(prediction)]\n",
    "    return predicted_sentiment\n",
    "\n",
    "headline_input = \"Apple's new headquarters are to be built at the San Francisco subway station\"\n",
    "headline_input2 = \"A data processing unit collects the data, calculates RVR values and provides the data to users via various interfaces.\"\n",
    "headline_input3 = \"The company is studying the feasibility of focusing most of its processed meat production in the Vantaa facilities and the processing of fresh meat in the Forssa facilities.\"\n",
    "headline_input4 = \"A high court in Finland has fined seven local asphalt companies more than   lion ( $ 117 million ) for operating a cartel .\"\n",
    "headline_input5 = \"In addition to Russia, we now seek additional growth in Ukraine.\"\n",
    "\n",
    "\n",
    "predicted_sentiment = predict_sentiment(headline_input, nn_model, vectorizer)\n",
    "predicted_sentiment2 = predict_sentiment(headline_input2, nn_model, vectorizer)\n",
    "predicted_sentiment3 = predict_sentiment(headline_input3, nn_model, vectorizer)\n",
    "predicted_sentiment4 = predict_sentiment(headline_input4, nn_model, vectorizer)\n",
    "predicted_sentiment5 = predict_sentiment(headline_input5, nn_model, vectorizer)\n",
    "\n",
    "# Print the predicted sentiment for the input headline\n",
    "print(f\"The predicted sentiment for the headline '{headline_input}' is: {predicted_sentiment}\")\n",
    "print(f\"The predicted sentiment for the headline '{headline_input2}' is: {predicted_sentiment2}\")\n",
    "print(f\"The predicted sentiment for the headline '{headline_input3}' is: {predicted_sentiment3}\")\n",
    "print(f\"The predicted sentiment for the headline '{headline_input4}' is: {predicted_sentiment4}\")\n",
    "print(f\"The predicted sentiment for the headline '{headline_input5}' is: {predicted_sentiment5}\")"
   ]
  },
  {
   "cell_type": "code",
   "execution_count": 18,
   "metadata": {},
   "outputs": [],
   "source": [
    "import pickle\n",
    "filename = 'savemodel.sav'\n",
    "pickle.dump(nn_model,open(filename,'wb'))"
   ]
  },
  {
   "cell_type": "code",
   "execution_count": 19,
   "metadata": {},
   "outputs": [],
   "source": [
    "vectorizer_filename = 'vectorizer.pkl'\n",
    "pickle.dump(vectorizer, open(vectorizer_filename, 'wb'))"
   ]
  }
 ],
 "metadata": {
  "kernelspec": {
   "display_name": "Python 3",
   "language": "python",
   "name": "python3"
  },
  "language_info": {
   "codemirror_mode": {
    "name": "ipython",
    "version": 3
   },
   "file_extension": ".py",
   "mimetype": "text/x-python",
   "name": "python",
   "nbconvert_exporter": "python",
   "pygments_lexer": "ipython3",
   "version": "3.11.6"
  }
 },
 "nbformat": 4,
 "nbformat_minor": 2
}
